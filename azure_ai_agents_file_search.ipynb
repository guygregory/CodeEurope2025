{
 "cells": [
  {
   "cell_type": "markdown",
   "id": "9f06a878",
   "metadata": {},
   "source": [
    "# Code Europe 2025 - File Search Demo\n",
    "This notebook shows how to build an **Azure AI Foundry Agent** that can search across uploaded files. This sample is based on one of the official Microsoft Learn samples - https://aka.ms/IntroToAgentService/Sample\n",
    "\n",
    "### Prerequisites\n",
    "```bash\n",
    "pip install azure-ai-projects azure-ai-agents azure-identity python-dotenv\n",
    "```\n",
    "Set these environment variables (e.g. in a `.env` file):\n",
    "- `PROJECT_ENDPOINT`\n",
    "- `MODEL_DEPLOYMENT_NAME`\n",
    "\n",
    "This example uses Entra ID authentication, so before running, please authenticate:\n",
    "\n",
    "`az login`"
   ]
  },
  {
   "cell_type": "markdown",
   "id": "36421f0a",
   "metadata": {},
   "source": [
    "## Import packages and environment variables"
   ]
  },
  {
   "cell_type": "code",
   "execution_count": 25,
   "id": "afbfe3e0",
   "metadata": {},
   "outputs": [
    {
     "data": {
      "text/plain": [
       "True"
      ]
     },
     "execution_count": 25,
     "metadata": {},
     "output_type": "execute_result"
    }
   ],
   "source": [
    "import os\n",
    "from azure.ai.projects import AIProjectClient\n",
    "from azure.ai.agents.models import FileSearchTool, FilePurpose, ListSortOrder\n",
    "from azure.identity import DefaultAzureCredential\n",
    "from dotenv import load_dotenv\n",
    "\n",
    "load_dotenv()"
   ]
  },
  {
   "cell_type": "markdown",
   "id": "ffed3c3b",
   "metadata": {},
   "source": [
    "## Connect to your Azure AI Foundry Project"
   ]
  },
  {
   "cell_type": "code",
   "execution_count": 26,
   "id": "79272be8",
   "metadata": {},
   "outputs": [],
   "source": [
    "project_client = AIProjectClient(\n",
    "    endpoint=os.environ[\"PROJECT_ENDPOINT\"],\n",
    "    credential=DefaultAzureCredential(),\n",
    ")\n",
    "\n",
    "agents_client = project_client.agents"
   ]
  },
  {
   "cell_type": "markdown",
   "id": "a1ed3a99",
   "metadata": {},
   "source": [
    "## Upload a file & create a searchable vector store"
   ]
  },
  {
   "cell_type": "code",
   "execution_count": 27,
   "id": "c96da728",
   "metadata": {},
   "outputs": [
    {
     "name": "stdout",
     "output_type": "stream",
     "text": [
      "Uploaded file - id: assistant-XvMm27s66doUD3isqkKKyh\n",
      "Created vector store - id: vs_mzxe1qTTzWLmFCsdcVAjMNvk\n"
     ]
    }
   ],
   "source": [
    "file = agents_client.files.upload_and_poll(\n",
    "    file_path=\"employee_handbook.pdf\",\n",
    "    purpose=FilePurpose.AGENTS,\n",
    ")\n",
    "print(f\"Uploaded file - id: {file.id}\")\n",
    "\n",
    "# Build the vector store\n",
    "vector_store = agents_client.vector_stores.create_and_poll(\n",
    "    file_ids=[file.id],\n",
    "    name=\"my_vectorstore\",\n",
    ")\n",
    "print(f\"Created vector store - id: {vector_store.id}\")\n"
   ]
  },
  {
   "cell_type": "markdown",
   "id": "4b326b4f",
   "metadata": {},
   "source": [
    "## Create a file‑search tool and agent"
   ]
  },
  {
   "cell_type": "code",
   "execution_count": 28,
   "id": "c0ae4cc6",
   "metadata": {},
   "outputs": [
    {
     "name": "stdout",
     "output_type": "stream",
     "text": [
      "Created agent - id: asst_AMTUmrXifTw5K5OuuK3ImCR6\n"
     ]
    }
   ],
   "source": [
    "file_search = FileSearchTool(vector_store_ids=[vector_store.id])\n",
    "\n",
    "agent = agents_client.create_agent(\n",
    "    model=os.environ[\"MODEL_DEPLOYMENT_NAME\"],\n",
    "    name=\"DEMO - Code Europe 2025 Agent - SDK\",\n",
    "    instructions=(\"You are helpful agent and can search information from uploaded files\"),\n",
    "    tools=file_search.definitions,\n",
    "    tool_resources=file_search.resources,\n",
    ")\n",
    "print(f\"Created agent - id: {agent.id}\")"
   ]
  },
  {
   "cell_type": "markdown",
   "id": "f2b19f4a",
   "metadata": {},
   "source": [
    "## Create a conversation thread, and add a message to it"
   ]
  },
  {
   "cell_type": "code",
   "execution_count": 29,
   "id": "b14fc2b7",
   "metadata": {},
   "outputs": [
    {
     "name": "stdout",
     "output_type": "stream",
     "text": [
      "Created thread - id: thread_QjvKPQM6GACS8Pyg28hB5jCx\n",
      "Created message - id: msg_Rc43l4Iof5YYwrtlBRtELacI\n"
     ]
    }
   ],
   "source": [
    "thread = agents_client.threads.create()\n",
    "print(f\"Created thread - id: {thread.id}\")\n",
    "\n",
    "message = agents_client.messages.create(\n",
    "    thread_id=thread.id,\n",
    "    role=\"user\",\n",
    "    content=\"What are the company values?\",\n",
    ")\n",
    "print(f\"Created message - id: {message.id}\")\n"
   ]
  },
  {
   "cell_type": "markdown",
   "id": "16bb2c08",
   "metadata": {},
   "source": [
    "## Run the agent"
   ]
  },
  {
   "cell_type": "code",
   "execution_count": 30,
   "id": "cd1bd3bb",
   "metadata": {},
   "outputs": [
    {
     "name": "stdout",
     "output_type": "stream",
     "text": [
      "Run finished with status: RunStatus.COMPLETED\n"
     ]
    }
   ],
   "source": [
    "run = agents_client.runs.create_and_process(\n",
    "    thread_id=thread.id,\n",
    "    agent_id=agent.id,\n",
    "    tool_choice=\"auto\"\n",
    ")\n",
    "print(f\"Run finished with status: {run.status}\")\n",
    "\n",
    "if run.status == \"failed\":\n",
    "    print(f\"Run failed: {run.last_error}\")"
   ]
  },
  {
   "cell_type": "markdown",
   "id": "f9e18f66",
   "metadata": {},
   "source": [
    "## Display the conversation history"
   ]
  },
  {
   "cell_type": "code",
   "execution_count": 31,
   "id": "32d8caa5",
   "metadata": {},
   "outputs": [
    {
     "name": "stdout",
     "output_type": "stream",
     "text": [
      "MessageRole.USER: What are the company values?\n",
      "MessageRole.AGENT: The company values are:\n",
      "\n",
      "- Integrity: We demonstrate integrity by adhering to the highest ethical standards and doing the right thing, even when no one is watching.\n",
      "- Results Oriented: We focus on achieving results and exceeding expectations through effective planning, execution, and accountability.\n",
      "- Adaptability: We embrace change and continuously evolve to meet the dynamic needs of our clients and the marketplace.\n",
      "- Client Focused: We build lasting relationships by understanding and anticipating our clients’ needs, providing exceptional service, and consistently delivering on our promises.\n",
      "- Teamwork: We value collaboration and leverage our collective strengths to achieve shared goals. We support each other and celebrate our successes together.\n",
      "- Continuous Improvement: We foster a culture of learning, innovation, and improvement. We seek opportunities to grow personally and professionally.\n",
      "\n",
      "These values form the foundation for the company’s culture and guide its actions and decisions.\n"
     ]
    }
   ],
   "source": [
    "messages = agents_client.messages.list(\n",
    "    thread_id=thread.id,\n",
    "    order=ListSortOrder.ASCENDING,\n",
    ")\n",
    "\n",
    "for msg in messages:\n",
    "    if msg.text_messages:\n",
    "        last = msg.text_messages[-1]\n",
    "        print(f\"{msg.role}: {last.text.value}\")"
   ]
  },
  {
   "cell_type": "markdown",
   "id": "b1de32e3",
   "metadata": {},
   "source": [
    "## Clean‑up resources"
   ]
  },
  {
   "cell_type": "code",
   "execution_count": 32,
   "id": "ce81f5af",
   "metadata": {},
   "outputs": [
    {
     "name": "stdout",
     "output_type": "stream",
     "text": [
      "Clean-up completed\n"
     ]
    }
   ],
   "source": [
    "agents_client.vector_stores.delete(vector_store.id)\n",
    "agents_client.files.delete(file_id=file.id)\n",
    "agents_client.delete_agent(agent.id)\n",
    "project_client.close()\n",
    "\n",
    "print(\"Clean-up completed\")"
   ]
  }
 ],
 "metadata": {
  "kernelspec": {
   "display_name": "Python 3",
   "language": "python",
   "name": "python3"
  },
  "language_info": {
   "codemirror_mode": {
    "name": "ipython",
    "version": 3
   },
   "file_extension": ".py",
   "mimetype": "text/x-python",
   "name": "python",
   "nbconvert_exporter": "python",
   "pygments_lexer": "ipython3",
   "version": "3.13.5"
  }
 },
 "nbformat": 4,
 "nbformat_minor": 5
}
