{
 "cells": [
  {
   "cell_type": "markdown",
   "id": "82cfcb06",
   "metadata": {},
   "source": [
    "# Azure AI Foundry Agent Service - MCP Demo\n",
    "\n",
    "This notebook demonstrates how to create and interact with an Azure AI Foundry Agent using the MCP Tool. Based on the sample from [here](https://github.com/Azure/azure-sdk-for-python/blob/main/sdk/ai/azure-ai-agents/samples/agents_tools/sample_agents_mcp.py). Supported regions at time of writing: `westus`, `westus2`, `uaenorth`, `southindia` and `switzerlandnorth`.\n",
    "\n",
    "Before running the sample:\n",
    "\n",
    "`pip install azure-ai-projects azure-ai-agents azure-identity --pre`\n",
    "\n",
    "Set these environment variables with your own values:\n",
    "1) `PROJECT_ENDPOINT2` - The Azure AI Project endpoint, as found in the Overview page of your Azure AI Foundry portal.\n",
    "2) `MODEL_DEPLOYMENT_NAME` - The deployment name of the AI model, as found under the \"Name\" column in the \"Models + endpoints\" tab in your Azure AI Foundry project.\n",
    "3) `MCP_SERVER_URL` - The URL of your MCP server endpoint.\n",
    "4) `MCP_SERVER_LABEL` - A label for your MCP server."
   ]
  },
  {
   "cell_type": "code",
   "execution_count": 1,
   "id": "27502177",
   "metadata": {},
   "outputs": [],
   "source": [
    "import os\n",
    "import time\n",
    "\n",
    "from azure.ai.projects import AIProjectClient\n",
    "from azure.ai.agents.models import (\n",
    "    McpTool,\n",
    "    RequiredMcpToolCall,\n",
    "    SubmitToolApprovalAction,\n",
    "    ToolApproval,\n",
    ")\n",
    "from azure.identity import DefaultAzureCredential\n",
    "from dotenv import load_dotenv\n",
    "\n",
    "# Load any values stored in a local .env file\n",
    "load_dotenv()\n",
    "\n",
    "# MCP server configuration\n",
    "mcp_server_url  = os.environ.get(\"MCP_SERVER_URL\", \"https://learn.microsoft.com/api/mcp\")\n",
    "mcp_server_label = os.environ.get(\"MCP_SERVER_LABEL\", \"MicrosoftDocs\")\n"
   ]
  },
  {
   "cell_type": "code",
   "execution_count": 2,
   "id": "59dfaca4",
   "metadata": {},
   "outputs": [],
   "source": [
    "project_client = AIProjectClient(\n",
    "    endpoint=os.environ[\"PROJECT_ENDPOINT2\"],  # ← ensure this env var is set\n",
    "    credential=DefaultAzureCredential(),\n",
    ")\n",
    "\n",
    "# Convenience handle for the Agents sub‑client\n",
    "agents_client = project_client.agents\n"
   ]
  },
  {
   "cell_type": "code",
   "execution_count": 3,
   "id": "a5da27a9",
   "metadata": {},
   "outputs": [],
   "source": [
    "mcp_tool = McpTool(\n",
    "    server_label=mcp_server_label,\n",
    "    server_url=mcp_server_url,\n",
    "    allowed_tools=[],          # Optional initial allow‑list\n",
    ")\n"
   ]
  },
  {
   "cell_type": "code",
   "execution_count": 4,
   "id": "2fb55062",
   "metadata": {},
   "outputs": [
    {
     "name": "stdout",
     "output_type": "stream",
     "text": [
      "Allowed tools: ['microsoft_docs_search']\n"
     ]
    }
   ],
   "source": [
    "search_api_code = \"microsoft_docs_search\"\n",
    "mcp_tool.allow_tool(search_api_code)\n",
    "print(f\"Allowed tools: {mcp_tool.allowed_tools}\")"
   ]
  },
  {
   "cell_type": "code",
   "execution_count": null,
   "id": "e4680a2b",
   "metadata": {},
   "outputs": [
    {
     "name": "stderr",
     "output_type": "stream",
     "text": [
      "DefaultAzureCredential failed to retrieve a token from the included credentials.\n",
      "Attempted credentials:\n",
      "\tEnvironmentCredential: EnvironmentCredential authentication unavailable. Environment variables are not fully configured.\n",
      "Visit https://aka.ms/azsdk/python/identity/environmentcredential/troubleshoot to troubleshoot this issue.\n",
      "\tManagedIdentityCredential: ManagedIdentityCredential authentication unavailable, no response from the IMDS endpoint.\n",
      "\tSharedTokenCacheCredential: SharedTokenCacheCredential authentication unavailable. No accounts were found in the cache.\n",
      "\tAzureCliCredential: Failed to invoke the Azure CLI\n",
      "\tAzurePowerShellCredential: Az.Account module >= 2.2.0 is not installed\n",
      "\tAzureDeveloperCliCredential: Please run 'azd auth login' from a command prompt to authenticate before using this credential.\n",
      "To mitigate this issue, please refer to the troubleshooting guidelines here at https://aka.ms/azsdk/python/identity/defaultazurecredential/troubleshoot.\n",
      "\n",
      "KeyboardInterrupt\n",
      "\n"
     ]
    },
    {
     "ename": "",
     "evalue": "",
     "output_type": "error",
     "traceback": [
      "\u001b[1;31mThe Kernel crashed while executing code in the current cell or a previous cell. \n",
      "\u001b[1;31mPlease review the code in the cell(s) to identify a possible cause of the failure. \n",
      "\u001b[1;31mClick <a href='https://aka.ms/vscodeJupyterKernelCrash'>here</a> for more info. \n",
      "\u001b[1;31mView Jupyter <a href='command:jupyter.viewOutput'>log</a> for further details."
     ]
    }
   ],
   "source": [
    "agent = agents_client.create_agent(\n",
    "    model=os.environ[\"MODEL_DEPLOYMENT_NAME\"],          # deployment name\n",
    "    name=\"my-mcp-agent\",\n",
    "    instructions=(\n",
    "        \"You are a helpful agent that can use MCP tools to assist users. \"\n",
    "        \"Use the available MCP tools to answer questions and perform tasks.\"\n",
    "    ),\n",
    "    tools=mcp_tool.definitions,\n",
    ")\n",
    "\n",
    "print(f\"Created agent, ID: {agent.id}\")\n",
    "print(f\"MCP Server: {mcp_tool.server_label} at {mcp_tool.server_url}\")"
   ]
  },
  {
   "cell_type": "code",
   "execution_count": null,
   "id": "95f4f9be",
   "metadata": {},
   "outputs": [
    {
     "name": "stdout",
     "output_type": "stream",
     "text": [
      "Created thread, ID: thread_aeD911R4CGQOlPwH5P3P3hbi\n"
     ]
    }
   ],
   "source": [
    "thread = agents_client.threads.create()\n",
    "print(f\"Created thread, ID: {thread.id}\")"
   ]
  },
  {
   "cell_type": "code",
   "execution_count": null,
   "id": "6c1fc2fb",
   "metadata": {},
   "outputs": [
    {
     "name": "stdout",
     "output_type": "stream",
     "text": [
      "Created message, ID: msg_QVO8LntFi76pxJvF3A21swXv\n"
     ]
    }
   ],
   "source": [
    "message = agents_client.messages.create(\n",
    "    thread_id=thread.id,\n",
    "    role=\"user\",\n",
    "    content=\"Does Azure AI Foundry Agent Service support Model Context Protocol as a tool?\",\n",
    ")\n",
    "print(f\"Created message, ID: {message.id}\")"
   ]
  },
  {
   "cell_type": "code",
   "execution_count": null,
   "id": "a757f06d",
   "metadata": {},
   "outputs": [
    {
     "name": "stdout",
     "output_type": "stream",
     "text": [
      "Created run, ID: run_06nqNi5GiiLDcvwdbN9LGXzm\n",
      "Current run status: RunStatus.IN_PROGRESS\n",
      "Current run status: RunStatus.IN_PROGRESS\n",
      "Current run status: RunStatus.IN_PROGRESS\n",
      "Current run status: RunStatus.IN_PROGRESS\n",
      "Current run status: RunStatus.IN_PROGRESS\n",
      "Current run status: RunStatus.IN_PROGRESS\n",
      "Current run status: RunStatus.IN_PROGRESS\n",
      "Current run status: RunStatus.COMPLETED\n",
      "Run completed with status: RunStatus.COMPLETED\n"
     ]
    }
   ],
   "source": [
    "# Configure headers / approval mode (optional)\n",
    "mcp_tool.update_headers(\"SuperSecret\", \"123456\")\n",
    "\n",
    "mcp_tool.set_approval_mode(\"never\")          # Disable human approval\n",
    "\n",
    "run = agents_client.runs.create(\n",
    "    thread_id=thread.id,\n",
    "    agent_id=agent.id,\n",
    "    tool_resources=mcp_tool.resources,\n",
    ")\n",
    "print(f\"Created run, ID: {run.id}\")\n",
    "\n",
    "while run.status in [\"queued\", \"in_progress\", \"requires_action\"]:\n",
    "    time.sleep(1)\n",
    "    run = agents_client.runs.get(thread_id=thread.id, run_id=run.id)\n",
    "\n",
    "    if run.status == \"requires_action\" and isinstance(run.required_action, SubmitToolApprovalAction):\n",
    "        tool_calls = run.required_action.submit_tool_approval.tool_calls\n",
    "        if not tool_calls:\n",
    "            print(\"No tool calls provided – cancelling run\")\n",
    "            agents_client.runs.cancel(thread_id=thread.id, run_id=run.id)\n",
    "            break\n",
    "\n",
    "        tool_approvals = []\n",
    "        for tool_call in tool_calls:\n",
    "            if isinstance(tool_call, RequiredMcpToolCall):\n",
    "                print(f\"Approving tool call: {tool_call}\")\n",
    "                tool_approvals.append(\n",
    "                    ToolApproval(\n",
    "                        tool_call_id=tool_call.id,\n",
    "                        approve=True,\n",
    "                        headers=mcp_tool.headers,\n",
    "                    )\n",
    "                )\n",
    "\n",
    "        print(f\"tool_approvals: {tool_approvals}\")\n",
    "        if tool_approvals:\n",
    "            agents_client.runs.submit_tool_outputs(\n",
    "                thread_id=thread.id, run_id=run.id, tool_approvals=tool_approvals\n",
    "            )\n",
    "\n",
    "    print(f\"Current run status: {run.status}\")\n",
    "\n",
    "print(f\"Run completed with status: {run.status}\")\n",
    "if run.status == \"failed\":\n",
    "    print(f\"Run failed: {run.last_error}\")"
   ]
  },
  {
   "cell_type": "code",
   "execution_count": null,
   "id": "92d568ed",
   "metadata": {},
   "outputs": [
    {
     "name": "stdout",
     "output_type": "stream",
     "text": [
      "Step step_7DDhdIYH0FYFWQXKlAqmE8xT status: completed\n",
      "\n",
      "Step step_rWQIutDHfHdzd2vGvOaxicwr status: completed\n",
      "  MCP Tool calls:\n",
      "    Tool Call ID: call_y06uBapoEZ71N49Zfesuabj6\n",
      "    Type: mcp\n",
      "\n"
     ]
    }
   ],
   "source": [
    "run_steps = agents_client.run_steps.list(thread_id=thread.id, run_id=run.id)\n",
    "\n",
    "for step in run_steps:\n",
    "    print(f\"Step {step['id']} status: {step['status']}\")\n",
    "    step_details = step.get(\"step_details\", {})\n",
    "    tool_calls = step_details.get(\"tool_calls\", [])\n",
    "    if tool_calls:\n",
    "        print(\"  MCP Tool calls:\")\n",
    "        for call in tool_calls:\n",
    "            print(f\"    Tool Call ID: {call.get('id')}\")\n",
    "            print(f\"    Type: {call.get('type')}\")\n",
    "    print()     # blank line for readability"
   ]
  },
  {
   "cell_type": "code",
   "execution_count": null,
   "id": "a94a24b6",
   "metadata": {},
   "outputs": [
    {
     "name": "stdout",
     "output_type": "stream",
     "text": [
      "\n",
      "Conversation\n",
      "--------------------------------------------------\n",
      "USER: Does Azure AI Foundry Agent Service support Model Context Protocol as a tool?\n",
      "--------------------------------------------------\n",
      "ASSISTANT: Yes, Azure AI Foundry Agent Service supports Model Context Protocol (MCP) as a tool.\n",
      "\n",
      "You can extend your agents by connecting them to tools hosted on remote Model Context Protocol (MCP) servers using the built-in \"MCP tool\". This allows agents to integrate with external services that expose MCP endpoints, letting you enhance the agent experience with third-party or custom tools in a standard, scalable way.\n",
      "\n",
      "Key points from the official documentation:\n",
      "- The MCP tool enables your agents to connect to any remote MCP server.\n",
      "- MCP is an open standard for exposing tools and contextual data to LLMs and AI agents.\n",
      "- To use it, you configure your agent with the MCP server endpoint, and may pass custom headers (such as authentication info) per each run.\n",
      "- This capability is available as a built-in feature as of the June 2025 update.\n",
      "\n",
      "References:\n",
      "- [Azure AI Foundry Agent Service: What's New](https://learn.microsoft.com/en-us/azure/ai-foundry/agents/whats-new)\n",
      "- [Connect to Model Context Protocol (MCP) Servers](https://learn.microsoft.com/en-us/azure/ai-foundry/agents/how-to/tools/model-context-protocol)\n",
      "- [Tool Overview in Foundry Agent Service](https://learn.microsoft.com/en-us/azure/ai-foundry/agents/how-to/tools/overview#built-in-tools)\n",
      "\n",
      "If you need details on how to set this up or specific usage samples, let me know!\n",
      "--------------------------------------------------\n"
     ]
    }
   ],
   "source": [
    "messages = agents_client.messages.list(thread_id=thread.id)\n",
    "\n",
    "print(\"\\nConversation\")\n",
    "print(\"-\" * 50)\n",
    "for msg in reversed(list(messages)):\n",
    "    if msg.text_messages:\n",
    "        last_text = msg.text_messages[-1]\n",
    "        print(f\"{msg.role.upper()}: {last_text.text.value}\")\n",
    "        print(\"-\" * 50)"
   ]
  },
  {
   "cell_type": "code",
   "execution_count": null,
   "id": "64f4ed30",
   "metadata": {},
   "outputs": [
    {
     "name": "stdout",
     "output_type": "stream",
     "text": [
      "\n",
      "Demonstrating dynamic tool management\n",
      "Current allowed tools: ['microsoft_docs_search']\n",
      "After removing microsoft_docs_search: []\n"
     ]
    }
   ],
   "source": [
    "print(\"\\nDemonstrating dynamic tool management\")\n",
    "print(f\"Current allowed tools: {mcp_tool.allowed_tools}\")\n",
    "\n",
    "try:\n",
    "    mcp_tool.disallow_tool(search_api_code)\n",
    "    print(f\"After removing {search_api_code}: {mcp_tool.allowed_tools}\")\n",
    "except ValueError as err:\n",
    "    print(f\"Error removing tool: {err}\")"
   ]
  },
  {
   "cell_type": "code",
   "execution_count": null,
   "id": "fa6ab428",
   "metadata": {},
   "outputs": [
    {
     "name": "stdout",
     "output_type": "stream",
     "text": [
      "Deleted agent\n"
     ]
    }
   ],
   "source": [
    "agents_client.delete_agent(agent.id)\n",
    "print(\"Deleted agent\")"
   ]
  }
 ],
 "metadata": {
  "kernelspec": {
   "display_name": "Python 3",
   "language": "python",
   "name": "python3"
  },
  "language_info": {
   "codemirror_mode": {
    "name": "ipython",
    "version": 3
   },
   "file_extension": ".py",
   "mimetype": "text/x-python",
   "name": "python",
   "nbconvert_exporter": "python",
   "pygments_lexer": "ipython3",
   "version": "3.13.5"
  }
 },
 "nbformat": 4,
 "nbformat_minor": 5
}
